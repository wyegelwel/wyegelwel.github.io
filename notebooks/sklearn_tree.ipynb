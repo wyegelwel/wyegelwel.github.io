{
 "cells": [
  {
   "cell_type": "code",
   "execution_count": null,
   "metadata": {},
   "outputs": [],
   "source": [
    "%matplotlib inline\n",
    "import matplotlib.pyplot as plt\n",
    "import numpy as np"
   ]
  },
  {
   "cell_type": "code",
   "execution_count": null,
   "metadata": {},
   "outputs": [],
   "source": [
    "xs = np.random.rand(100, 2) - 0.5\n",
    "pos_class = [(x,y) for x,y in xs if x*(y+0.1*np.sign(x)) > 0 ]\n",
    "neg_class = [(x,y) for x,y in xs if x*(y+0.1*np.sign(x)) < 0 ]"
   ]
  },
  {
   "cell_type": "code",
   "execution_count": null,
   "metadata": {},
   "outputs": [],
   "source": [
    "for points in [pos_class, neg_class]:\n",
    "    xs = [x for x,y in points]\n",
    "    ys = [y for x,y in points]\n",
    "    plt.scatter(xs, ys)\n",
    "plt.tick_params(labelright=True)"
   ]
  },
  {
   "cell_type": "code",
   "execution_count": null,
   "metadata": {},
   "outputs": [],
   "source": [
    "for points in [pos_class, neg_class]:\n",
    "    xs = [x for x,y in points]\n",
    "    ys = [y for x,y in points]\n",
    "    plt.scatter(xs, ys)\n",
    "plt.axvline(color='k', linewidth=3)\n",
    "plt.tick_params(labelright=True)"
   ]
  },
  {
   "cell_type": "code",
   "execution_count": null,
   "metadata": {},
   "outputs": [],
   "source": [
    "for points in [pos_class, neg_class]:\n",
    "    xs = [x for x,y in points]\n",
    "    ys = [y for x,y in points]\n",
    "    plt.scatter(xs, ys)\n",
    "plt.axvline(color='k', linewidth=3)\n",
    "plt.axhline(color='k', linewidth=3, y=0.1, xmin=-0.5, xmax=0.5)\n",
    "plt.axhline(color='k', linewidth=3, y=-0.1, xmin=0.51, xmax=1)\n",
    "plt.tick_params(labelright=True)"
   ]
  },
  {
   "cell_type": "code",
   "execution_count": null,
   "metadata": {},
   "outputs": [],
   "source": []
  },
  {
   "cell_type": "code",
   "execution_count": null,
   "metadata": {},
   "outputs": [],
   "source": []
  },
  {
   "cell_type": "code",
   "execution_count": null,
   "metadata": {},
   "outputs": [],
   "source": []
  },
  {
   "cell_type": "code",
   "execution_count": null,
   "metadata": {},
   "outputs": [],
   "source": []
  },
  {
   "cell_type": "code",
   "execution_count": null,
   "metadata": {},
   "outputs": [],
   "source": []
  }
 ],
 "metadata": {
  "kernelspec": {
   "display_name": "Python 3",
   "language": "python",
   "name": "python3"
  },
  "language_info": {
   "codemirror_mode": {
    "name": "ipython",
    "version": 3
   },
   "file_extension": ".py",
   "mimetype": "text/x-python",
   "name": "python",
   "nbconvert_exporter": "python",
   "pygments_lexer": "ipython3",
   "version": "3.6.7"
  }
 },
 "nbformat": 4,
 "nbformat_minor": 2
}
